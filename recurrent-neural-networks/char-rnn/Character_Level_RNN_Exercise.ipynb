{
 "cells": [
  {
   "cell_type": "markdown",
   "metadata": {},
   "source": [
    "# Character-Level LSTM in PyTorch\n",
    "\n",
    "In this notebook, I'll construct a character-level LSTM with PyTorch. The network will train character by character on some text, then generate new text character by character. As an example, I will train on Anna Karenina. **This model will be able to generate new text based on the text from the book!**\n",
    "\n",
    "This network is based off of Andrej Karpathy's [post on RNNs](http://karpathy.github.io/2015/05/21/rnn-effectiveness/) and [implementation in Torch](https://github.com/karpathy/char-rnn). Below is the general architecture of the character-wise RNN.\n",
    "\n",
    "<img src=\"assets/charseq.jpeg\" width=\"500\">"
   ]
  },
  {
   "cell_type": "markdown",
   "metadata": {},
   "source": [
    "First let's load in our required resources for data loading and model creation."
   ]
  },
  {
   "cell_type": "code",
   "execution_count": 37,
   "metadata": {},
   "outputs": [],
   "source": [
    "import numpy as np\n",
    "import torch\n",
    "from torch import nn\n",
    "import torch.nn.functional as F\n",
    "import matplotlib.pyplot as plt"
   ]
  },
  {
   "cell_type": "markdown",
   "metadata": {},
   "source": [
    "## Load in Data\n",
    "\n",
    "Then, we'll load the Anna Karenina text file and convert it into integers for our network to use. "
   ]
  },
  {
   "cell_type": "code",
   "execution_count": 3,
   "metadata": {},
   "outputs": [],
   "source": [
    "# open text file and read in data as `text`\n",
    "with open('data/anna.txt', 'r') as f:\n",
    "    text = f.read()"
   ]
  },
  {
   "cell_type": "markdown",
   "metadata": {},
   "source": [
    "Let's check out the first 100 characters, make sure everything is peachy. According to the [American Book Review](http://americanbookreview.org/100bestlines.asp), this is the 6th best first line of a book ever."
   ]
  },
  {
   "cell_type": "code",
   "execution_count": 4,
   "metadata": {},
   "outputs": [
    {
     "data": {
      "text/plain": [
       "'Chapter 1\\n\\n\\nHappy families are all alike; every unhappy family is unhappy in its own\\nway.\\n\\nEverythin'"
      ]
     },
     "execution_count": 4,
     "metadata": {},
     "output_type": "execute_result"
    }
   ],
   "source": [
    "text[:100]"
   ]
  },
  {
   "cell_type": "markdown",
   "metadata": {},
   "source": [
    "### Tokenization\n",
    "\n",
    "In the cells, below, I'm creating a couple **dictionaries** to convert the characters to and from integers. Encoding the characters as integers makes it easier to use as input in the network."
   ]
  },
  {
   "cell_type": "code",
   "execution_count": 5,
   "metadata": {},
   "outputs": [],
   "source": [
    "# encode the text and map each character to an integer and vice versa\n",
    "\n",
    "# we create two dictionaries:\n",
    "# 1. int2char, which maps integers to characters\n",
    "# 2. char2int, which maps characters to unique integers\n",
    "chars = tuple(set(text))\n",
    "int2char = dict(enumerate(chars))\n",
    "char2int = {ch: ii for ii, ch in int2char.items()}\n",
    "\n",
    "# encode the text\n",
    "encoded = np.array([char2int[ch] for ch in text])"
   ]
  },
  {
   "cell_type": "markdown",
   "metadata": {},
   "source": [
    "And we can see those same characters from above, encoded as integers."
   ]
  },
  {
   "cell_type": "code",
   "execution_count": 6,
   "metadata": {},
   "outputs": [
    {
     "data": {
      "text/plain": [
       "array([30, 34, 22, 52, 27, 82,  8, 20, 59, 58, 58, 58, 21, 22, 52, 52,  3,\n",
       "       20, 36, 22, 79, 61,  6, 61, 82, 39, 20, 22,  8, 82, 20, 22,  6,  6,\n",
       "       20, 22,  6, 61, 23, 82, 65, 20, 82, 32, 82,  8,  3, 20, 10, 67, 34,\n",
       "       22, 52, 52,  3, 20, 36, 22, 79, 61,  6,  3, 20, 61, 39, 20, 10, 67,\n",
       "       34, 22, 52, 52,  3, 20, 61, 67, 20, 61, 27, 39, 20, 11, 24, 67, 58,\n",
       "       24, 22,  3, 81, 58, 58, 47, 32, 82,  8,  3, 27, 34, 61, 67])"
      ]
     },
     "execution_count": 6,
     "metadata": {},
     "output_type": "execute_result"
    }
   ],
   "source": [
    "encoded[:100]"
   ]
  },
  {
   "cell_type": "markdown",
   "metadata": {},
   "source": [
    "## Pre-processing the data\n",
    "\n",
    "As you can see in our char-RNN image above, our LSTM expects an input that is **one-hot encoded** meaning that each character is converted into an integer (via our created dictionary) and *then* converted into a column vector where only it's corresponding integer index will have the value of 1 and the rest of the vector will be filled with 0's. Since we're one-hot encoding the data, let's make a function to do that!\n"
   ]
  },
  {
   "cell_type": "code",
   "execution_count": 7,
   "metadata": {},
   "outputs": [],
   "source": [
    "def one_hot_encode(arr, n_labels):\n",
    "    \n",
    "    # Initialize the the encoded array\n",
    "    one_hot = np.zeros((arr.size, n_labels), dtype=np.float32)\n",
    "    \n",
    "    # Fill the appropriate elements with ones\n",
    "    one_hot[np.arange(one_hot.shape[0]), arr.flatten()] = 1.\n",
    "    \n",
    "    # Finally reshape it to get back to the original array\n",
    "    one_hot = one_hot.reshape((*arr.shape, n_labels))\n",
    "    \n",
    "    return one_hot"
   ]
  },
  {
   "cell_type": "code",
   "execution_count": 8,
   "metadata": {},
   "outputs": [
    {
     "name": "stdout",
     "output_type": "stream",
     "text": [
      "[3 5 1]\n",
      "(1, 3)\n",
      "[[[0. 0. 0. 1. 0. 0. 0. 0.]\n",
      "  [0. 0. 0. 0. 0. 1. 0. 0.]\n",
      "  [0. 1. 0. 0. 0. 0. 0. 0.]]]\n"
     ]
    }
   ],
   "source": [
    "# check that the function works as expected\n",
    "test_seq = np.array([[3, 5, 1]])\n",
    "one_hot = one_hot_encode(test_seq, 8)\n",
    "\n",
    "print(test_seq.flatten())\n",
    "print(test_seq.shape)\n",
    "print(one_hot)"
   ]
  },
  {
   "cell_type": "markdown",
   "metadata": {},
   "source": [
    "## Making training mini-batches\n",
    "\n",
    "\n",
    "To train on this data, we also want to create mini-batches for training. Remember that we want our batches to be multiple sequences of some desired number of sequence steps. Considering a simple example, our batches would look like this:\n",
    "\n",
    "<img src=\"assets/sequence_batching@1x.png\" width=500px>\n",
    "\n",
    "\n",
    "<br>\n",
    "\n",
    "In this example, we'll take the encoded characters (passed in as the `arr` parameter) and split them into multiple sequences, given by `batch_size`. Each of our sequences will be `seq_length` long.\n",
    "\n",
    "### Creating Batches\n",
    "\n",
    "**1. The first thing we need to do is discard some of the text so we only have completely full mini-batches. **\n",
    "\n",
    "Each batch contains $N \\times M$ characters, where $N$ is the batch size (the number of sequences in a batch) and $M$ is the seq_length or number of time steps in a sequence. Then, to get the total number of batches, $K$, that we can make from the array `arr`, you divide the length of `arr` by the number of characters per batch. Once you know the number of batches, you can get the total number of characters to keep from `arr`, $N * M * K$.\n",
    "\n",
    "**2. After that, we need to split `arr` into $N$ batches. ** \n",
    "\n",
    "You can do this using `arr.reshape(size)` where `size` is a tuple containing the dimensions sizes of the reshaped array. We know we want $N$ sequences in a batch, so let's make that the size of the first dimension. For the second dimension, you can use `-1` as a placeholder in the size, it'll fill up the array with the appropriate data for you. After this, you should have an array that is $N \\times (M * K)$.\n",
    "\n",
    "**3. Now that we have this array, we can iterate through it to get our mini-batches. **\n",
    "\n",
    "The idea is each batch is a $N \\times M$ window on the $N \\times (M * K)$ array. For each subsequent batch, the window moves over by `seq_length`. We also want to create both the input and target arrays. Remember that the targets are just the inputs shifted over by one character. The way I like to do this window is use `range` to take steps of size `n_steps` from $0$ to `arr.shape[1]`, the total number of tokens in each sequence. That way, the integers you get from `range` always point to the start of a batch, and each window is `seq_length` wide.\n",
    "\n",
    "> **TODO:** Write the code for creating batches in the function below. The exercises in this notebook _will not be easy_. I've provided a notebook with solutions alongside this notebook. If you get stuck, checkout the solutions. The most important thing is that you don't copy and paste the code into here, **type out the solution code yourself.**"
   ]
  },
  {
   "cell_type": "code",
   "execution_count": 9,
   "metadata": {},
   "outputs": [],
   "source": [
    "def get_batches(arr, batch_size, seq_length):\n",
    "    '''Create a generator that returns batches of size\n",
    "       batch_size x seq_length from arr.\n",
    "       \n",
    "       Arguments\n",
    "       ---------\n",
    "       arr: Array you want to make batches from\n",
    "       batch_size: Batch size, the number of sequences per batch\n",
    "       seq_length: Number of encoded chars in a sequence\n",
    "    '''\n",
    "    \n",
    "    ## Get the number of batches we can make\n",
    "    n_batches = len(arr) // (batch_size * seq_length)\n",
    "    \n",
    "    ## Keep only enough characters to make full batches\n",
    "    nb_chars = n_batches * seq_length * batch_size\n",
    "    arr = arr[:nb_chars]\n",
    "\n",
    "    \n",
    "    ## Reshape into batch_size row\n",
    "    arr = arr.reshape((batch_size, -1))\n",
    "    \n",
    "    ## Iterate over the batches using a window of size seq_length\n",
    "    for n in range(0, arr.shape[1], seq_length):\n",
    "        # The features\n",
    "        x = arr[:, n:n+seq_length]\n",
    "        \n",
    "        # The targets, shifted by one\n",
    "        y = np.zeros_like(x)\n",
    "        \n",
    "        y[:,:-1] = x[:,1:]\n",
    "        \n",
    "        if (n+seq_length == arr.shape[1]):\n",
    "            y[:,-1] = arr[:,0]\n",
    "        else:\n",
    "            y[:,-1] = arr[:,n+seq_length]\n",
    "            \n",
    "        yield x, y"
   ]
  },
  {
   "cell_type": "markdown",
   "metadata": {},
   "source": [
    "### Test Your Implementation\n",
    "\n",
    "Now I'll make some data sets and we can check out what's going on as we batch data. Here, as an example, I'm going to use a batch size of 8 and 50 sequence steps."
   ]
  },
  {
   "cell_type": "code",
   "execution_count": 10,
   "metadata": {},
   "outputs": [],
   "source": [
    "batches = get_batches(encoded, 8, 50)\n",
    "x, y = next(batches)"
   ]
  },
  {
   "cell_type": "code",
   "execution_count": 11,
   "metadata": {},
   "outputs": [
    {
     "name": "stdout",
     "output_type": "stream",
     "text": [
      "x\n",
      " [[30 34 22 52 27 82  8 20 59 58]\n",
      " [39 11 67 20 27 34 22 27 20 22]\n",
      " [82 67 25 20 11  8 20 22 20 36]\n",
      " [39 20 27 34 82 20 53 34 61 82]\n",
      " [20 39 22 24 20 34 82  8 20 27]\n",
      " [53 10 39 39 61 11 67 20 22 67]\n",
      " [20  5 67 67 22 20 34 22 25 20]\n",
      " [ 0  1  6 11 67 39 23  3 81 20]]\n",
      "\n",
      "y\n",
      " [[34 22 52 27 82  8 20 59 58 58]\n",
      " [11 67 20 27 34 22 27 20 22 27]\n",
      " [67 25 20 11  8 20 22 20 36 11]\n",
      " [20 27 34 82 20 53 34 61 82 36]\n",
      " [39 22 24 20 34 82  8 20 27 82]\n",
      " [10 39 39 61 11 67 20 22 67 25]\n",
      " [ 5 67 67 22 20 34 22 25 20 39]\n",
      " [ 1  6 11 67 39 23  3 81 20 57]]\n"
     ]
    }
   ],
   "source": [
    "# printing out the first 10 items in a sequence\n",
    "print('x\\n', x[:10, :10])\n",
    "print('\\ny\\n', y[:10, :10])"
   ]
  },
  {
   "cell_type": "markdown",
   "metadata": {},
   "source": [
    "If you implemented `get_batches` correctly, the above output should look something like \n",
    "```\n",
    "x\n",
    " [[25  8 60 11 45 27 28 73  1  2]\n",
    " [17  7 20 73 45  8 60 45 73 60]\n",
    " [27 20 80 73  7 28 73 60 73 65]\n",
    " [17 73 45  8 27 73 66  8 46 27]\n",
    " [73 17 60 12 73  8 27 28 73 45]\n",
    " [66 64 17 17 46  7 20 73 60 20]\n",
    " [73 76 20 20 60 73  8 60 80 73]\n",
    " [47 35 43  7 20 17 24 50 37 73]]\n",
    "\n",
    "y\n",
    " [[ 8 60 11 45 27 28 73  1  2  2]\n",
    " [ 7 20 73 45  8 60 45 73 60 45]\n",
    " [20 80 73  7 28 73 60 73 65  7]\n",
    " [73 45  8 27 73 66  8 46 27 65]\n",
    " [17 60 12 73  8 27 28 73 45 27]\n",
    " [64 17 17 46  7 20 73 60 20 80]\n",
    " [76 20 20 60 73  8 60 80 73 17]\n",
    " [35 43  7 20 17 24 50 37 73 36]]\n",
    " ```\n",
    " although the exact numbers may be different. Check to make sure the data is shifted over one step for `y`."
   ]
  },
  {
   "cell_type": "markdown",
   "metadata": {},
   "source": [
    "---\n",
    "## Defining the network with PyTorch\n",
    "\n",
    "Below is where you'll define the network.\n",
    "\n",
    "<img src=\"assets/charRNN.png\" width=500px>\n",
    "\n",
    "Next, you'll use PyTorch to define the architecture of the network. We start by defining the layers and operations we want. Then, define a method for the forward pass. You've also been given a method for predicting characters."
   ]
  },
  {
   "cell_type": "markdown",
   "metadata": {},
   "source": [
    "### Model Structure\n",
    "\n",
    "In `__init__` the suggested structure is as follows:\n",
    "* Create and store the necessary dictionaries (this has been done for you)\n",
    "* Define an LSTM layer that takes as params: an input size (the number of characters), a hidden layer size `n_hidden`, a number of layers `n_layers`, a dropout probability `drop_prob`, and a batch_first boolean (True, since we are batching)\n",
    "* Define a dropout layer with `drop_prob`\n",
    "* Define a fully-connected layer with params: input size `n_hidden` and output size (the number of characters)\n",
    "* Finally, initialize the weights (again, this has been given)\n",
    "\n",
    "Note that some parameters have been named and given in the `__init__` function, and we use them and store them by doing something like `self.drop_prob = drop_prob`."
   ]
  },
  {
   "cell_type": "markdown",
   "metadata": {},
   "source": [
    "---\n",
    "### LSTM Inputs/Outputs\n",
    "\n",
    "You can create a basic [LSTM layer](https://pytorch.org/docs/stable/nn.html#lstm) as follows\n",
    "\n",
    "```python\n",
    "self.lstm = nn.LSTM(input_size, n_hidden, n_layers, \n",
    "                            dropout=drop_prob, batch_first=True)\n",
    "```\n",
    "\n",
    "where `input_size` is the number of characters this cell expects to see as sequential input, and `n_hidden` is the number of units in the hidden layers in the cell. And we can add dropout by adding a dropout parameter with a specified probability; this will automatically add dropout to the inputs or outputs. Finally, in the `forward` function, we can stack up the LSTM cells into layers using `.view`. With this, you pass in a list of cells and it will send the output of one cell into the next cell.\n",
    "\n",
    "We also need to create an initial hidden state of all zeros. This is done like so\n",
    "\n",
    "```python\n",
    "self.init_hidden()\n",
    "```"
   ]
  },
  {
   "cell_type": "code",
   "execution_count": 12,
   "metadata": {},
   "outputs": [
    {
     "name": "stdout",
     "output_type": "stream",
     "text": [
      "Training on GPU!\n"
     ]
    }
   ],
   "source": [
    "# check if GPU is available\n",
    "train_on_gpu = torch.cuda.is_available()\n",
    "if(train_on_gpu):\n",
    "    print('Training on GPU!')\n",
    "else: \n",
    "    print('No GPU available, training on CPU; consider making n_epochs very small.')"
   ]
  },
  {
   "cell_type": "code",
   "execution_count": 30,
   "metadata": {},
   "outputs": [],
   "source": [
    "class CharRNN(nn.Module):\n",
    "    \n",
    "    def __init__(self, tokens, n_hidden=256, n_layers=2,\n",
    "                               drop_prob=0.5, lr=0.001):\n",
    "        super().__init__()\n",
    "        self.drop_prob = drop_prob\n",
    "        self.n_layers = n_layers\n",
    "        self.n_hidden = n_hidden\n",
    "        self.lr = lr\n",
    "        \n",
    "        # creating character dictionaries\n",
    "        self.chars = tokens\n",
    "        self.int2char = dict(enumerate(self.chars))\n",
    "        self.char2int = {ch: ii for ii, ch in self.int2char.items()}\n",
    "        \n",
    "        ## TODO: define the layers of the model\n",
    "        self.lstm = nn.LSTM(len(self.chars), n_hidden, n_layers, \n",
    "                            dropout=drop_prob, batch_first=True)\n",
    "        self.dropout = nn.Dropout(0.2)\n",
    "        \n",
    "        self.fc = nn.Linear(n_hidden, len(self.chars))\n",
    "      \n",
    "    \n",
    "    def forward(self, x, hidden):\n",
    "        ''' Forward pass through the network. \n",
    "            These inputs are x, and the hidden/cell state `hidden`. '''\n",
    "                \n",
    "        ## Get the outputs and the new hidden state from the lstm\n",
    "        out, hidden = self.lstm(x, hidden)\n",
    "        \n",
    "        out = out.contiguous().view(-1, self.n_hidden)\n",
    "        out = self.dropout(out)\n",
    "        \n",
    "        out = self.fc(out)\n",
    "        \n",
    "        # return the final output and the hidden state\n",
    "        return out, hidden\n",
    "    \n",
    "    \n",
    "    def init_hidden(self, batch_size):\n",
    "        ''' Initializes hidden state '''\n",
    "        # Create two new tensors with sizes n_layers x batch_size x n_hidden,\n",
    "        # initialized to zero, for hidden state and cell state of LSTM\n",
    "        weight = next(self.parameters()).data\n",
    "        \n",
    "        if (train_on_gpu):\n",
    "            hidden = (weight.new(self.n_layers, batch_size, self.n_hidden).zero_().cuda(),\n",
    "                  weight.new(self.n_layers, batch_size, self.n_hidden).zero_().cuda())\n",
    "        else:\n",
    "            hidden = (weight.new(self.n_layers, batch_size, self.n_hidden).zero_(),\n",
    "                      weight.new(self.n_layers, batch_size, self.n_hidden).zero_())\n",
    "        \n",
    "        return hidden\n",
    "        "
   ]
  },
  {
   "cell_type": "markdown",
   "metadata": {},
   "source": [
    "## Time to train\n",
    "\n",
    "The train function gives us the ability to set the number of epochs, the learning rate, and other parameters.\n",
    "\n",
    "Below we're using an Adam optimizer and cross entropy loss since we are looking at character class scores as output. We calculate the loss and perform backpropagation, as usual!\n",
    "\n",
    "A couple of details about training: \n",
    ">* Within the batch loop, we detach the hidden state from its history; this time setting it equal to a new *tuple* variable because an LSTM has a hidden state that is a tuple of the hidden and cell states.\n",
    "* We use [`clip_grad_norm_`](https://pytorch.org/docs/stable/_modules/torch/nn/utils/clip_grad.html) to help prevent exploding gradients."
   ]
  },
  {
   "cell_type": "code",
   "execution_count": 33,
   "metadata": {},
   "outputs": [],
   "source": [
    "\n",
    "\n",
    "def train(net, data, epochs=10, batch_size=10, seq_length=50, lr=0.001, clip=5, val_frac=0.1, print_every=10):\n",
    "    ''' Training a network \n",
    "    \n",
    "        Arguments\n",
    "        ---------\n",
    "        \n",
    "        net: CharRNN network\n",
    "        data: text data to train the network\n",
    "        epochs: Number of epochs to train\n",
    "        batch_size: Number of mini-sequences per mini-batch, aka batch size\n",
    "        seq_length: Number of character steps per mini-batch\n",
    "        lr: learning rate\n",
    "        clip: gradient clipping\n",
    "        val_frac: Fraction of data to hold out for validation\n",
    "        print_every: Number of steps for printing training and validation loss\n",
    "    \n",
    "    '''\n",
    "    net.train()\n",
    "    \n",
    "    opt = torch.optim.Adam(net.parameters(), lr=lr)\n",
    "    criterion = nn.CrossEntropyLoss()\n",
    "    \n",
    "    # create training and validation data\n",
    "    val_idx = int(len(data)*(1-val_frac))\n",
    "    data, val_data = data[:val_idx], data[val_idx:]\n",
    "    \n",
    "    if(train_on_gpu):\n",
    "        net.cuda()\n",
    "    \n",
    "    counter = 0\n",
    "    n_chars = len(net.chars)\n",
    "    for e in range(epochs):\n",
    "        # initialize hidden state\n",
    "        h = net.init_hidden(batch_size)\n",
    "        \n",
    "        for x, y in get_batches(data, batch_size, seq_length):\n",
    "            counter += 1\n",
    "            \n",
    "            # One-hot encode our data and make them Torch tensors\n",
    "            x = one_hot_encode(x, n_chars)\n",
    "            inputs, targets = torch.from_numpy(x), torch.from_numpy(y)\n",
    "            \n",
    "            if(train_on_gpu):\n",
    "                inputs, targets = inputs.cuda(), targets.cuda()\n",
    "\n",
    "            # Creating new variables for the hidden state, otherwise\n",
    "            # we'd backprop through the entire training history\n",
    "            h = tuple([each.data for each in h])\n",
    "\n",
    "            # zero accumulated gradients\n",
    "            net.zero_grad()\n",
    "            \n",
    "            # get the output from the model\n",
    "            output, h = net(inputs, h)\n",
    "            \n",
    "            # calculate the loss and perform backprop\n",
    "            loss = criterion(output, targets.view(batch_size*seq_length).long())\n",
    "            loss.backward()\n",
    "            # `clip_grad_norm` helps prevent the exploding gradient problem in RNNs / LSTMs.\n",
    "            nn.utils.clip_grad_norm_(net.parameters(), clip)\n",
    "            opt.step()\n",
    "            \n",
    "            # loss stats\n",
    "            if counter % print_every == 0:\n",
    "                # Get validation loss\n",
    "                val_h = net.init_hidden(batch_size)\n",
    "                val_losses = []\n",
    "                net.eval()\n",
    "                for x, y in get_batches(val_data, batch_size, seq_length):\n",
    "                    # One-hot encode our data and make them Torch tensors\n",
    "                    x = one_hot_encode(x, n_chars)\n",
    "                    x, y = torch.from_numpy(x), torch.from_numpy(y)\n",
    "                    \n",
    "                    # Creating new variables for the hidden state, otherwise\n",
    "                    # we'd backprop through the entire training history\n",
    "                    val_h = tuple([each.data for each in val_h])\n",
    "                    \n",
    "                    inputs, targets = x, y\n",
    "                    if(train_on_gpu):\n",
    "                        inputs, targets = inputs.cuda(), targets.cuda()\n",
    "\n",
    "                    output, val_h = net(inputs, val_h)\n",
    "                    val_loss = criterion(output, targets.view(batch_size*seq_length).long())\n",
    "                \n",
    "                    val_losses.append(val_loss.item())\n",
    "                \n",
    "                net.train() # reset to train mode after iterationg through validation data\n",
    "                \n",
    "                \n",
    "                train_losses.append(loss.item())\n",
    "                valid_losses.append(np.mean(val_losses))\n",
    "                print(\"Epoch: {}/{}...\".format(e+1, epochs),\n",
    "                      \"Step: {}...\".format(counter),\n",
    "                      \"Loss: {:.4f}...\".format(loss.item()),\n",
    "                      \"Val Loss: {:.4f}\".format(np.mean(val_losses)))"
   ]
  },
  {
   "cell_type": "markdown",
   "metadata": {},
   "source": [
    "## Instantiating the model\n",
    "\n",
    "Now we can actually train the network. First we'll create the network itself, with some given hyperparameters. Then, define the mini-batches sizes, and start training!"
   ]
  },
  {
   "cell_type": "code",
   "execution_count": 34,
   "metadata": {},
   "outputs": [
    {
     "name": "stdout",
     "output_type": "stream",
     "text": [
      "CharRNN(\n",
      "  (lstm): LSTM(83, 512, num_layers=2, batch_first=True, dropout=0.5)\n",
      "  (dropout): Dropout(p=0.2)\n",
      "  (fc): Linear(in_features=512, out_features=83, bias=True)\n",
      ")\n"
     ]
    }
   ],
   "source": [
    "## TODO: set your model hyperparameters\n",
    "# define and print the net\n",
    "n_hidden= 512\n",
    "n_layers= 2\n",
    "\n",
    "net = CharRNN(chars, n_hidden, n_layers)\n",
    "print(net)"
   ]
  },
  {
   "cell_type": "markdown",
   "metadata": {},
   "source": [
    "### Set your training hyperparameters!"
   ]
  },
  {
   "cell_type": "code",
   "execution_count": 35,
   "metadata": {},
   "outputs": [],
   "source": [
    "train_losses = []\n",
    "valid_losses = []"
   ]
  },
  {
   "cell_type": "code",
   "execution_count": 36,
   "metadata": {
    "scrolled": true
   },
   "outputs": [
    {
     "name": "stdout",
     "output_type": "stream",
     "text": [
      "Epoch: 1/20... Step: 10... Loss: 3.2170... Val Loss: 3.2072\n",
      "Epoch: 1/20... Step: 20... Loss: 3.1233... Val Loss: 3.1379\n",
      "Epoch: 1/20... Step: 30... Loss: 3.1269... Val Loss: 3.1255\n",
      "Epoch: 1/20... Step: 40... Loss: 3.0974... Val Loss: 3.1201\n",
      "Epoch: 1/20... Step: 50... Loss: 3.1316... Val Loss: 3.1184\n",
      "Epoch: 1/20... Step: 60... Loss: 3.1095... Val Loss: 3.1145\n",
      "Epoch: 1/20... Step: 70... Loss: 3.0962... Val Loss: 3.1121\n",
      "Epoch: 1/20... Step: 80... Loss: 3.1069... Val Loss: 3.1029\n",
      "Epoch: 1/20... Step: 90... Loss: 3.0898... Val Loss: 3.0806\n",
      "Epoch: 1/20... Step: 100... Loss: 3.0420... Val Loss: 3.0338\n",
      "Epoch: 1/20... Step: 110... Loss: 2.9522... Val Loss: 2.9430\n",
      "Epoch: 1/20... Step: 120... Loss: 2.8330... Val Loss: 2.8222\n",
      "Epoch: 1/20... Step: 130... Loss: 2.7346... Val Loss: 2.7056\n",
      "Epoch: 2/20... Step: 140... Loss: 2.7056... Val Loss: 2.6316\n",
      "Epoch: 2/20... Step: 150... Loss: 2.5837... Val Loss: 2.5448\n",
      "Epoch: 2/20... Step: 160... Loss: 2.5064... Val Loss: 2.4851\n",
      "Epoch: 2/20... Step: 170... Loss: 2.4366... Val Loss: 2.4374\n",
      "Epoch: 2/20... Step: 180... Loss: 2.4118... Val Loss: 2.4011\n",
      "Epoch: 2/20... Step: 190... Loss: 2.3544... Val Loss: 2.3720\n",
      "Epoch: 2/20... Step: 200... Loss: 2.3531... Val Loss: 2.3452\n",
      "Epoch: 2/20... Step: 210... Loss: 2.3151... Val Loss: 2.3093\n",
      "Epoch: 2/20... Step: 220... Loss: 2.2702... Val Loss: 2.2767\n",
      "Epoch: 2/20... Step: 230... Loss: 2.2531... Val Loss: 2.2449\n",
      "Epoch: 2/20... Step: 240... Loss: 2.2270... Val Loss: 2.2156\n",
      "Epoch: 2/20... Step: 250... Loss: 2.1707... Val Loss: 2.2047\n",
      "Epoch: 2/20... Step: 260... Loss: 2.1325... Val Loss: 2.1690\n",
      "Epoch: 2/20... Step: 270... Loss: 2.1426... Val Loss: 2.1418\n",
      "Epoch: 3/20... Step: 280... Loss: 2.1337... Val Loss: 2.1200\n",
      "Epoch: 3/20... Step: 290... Loss: 2.0937... Val Loss: 2.0950\n",
      "Epoch: 3/20... Step: 300... Loss: 2.0678... Val Loss: 2.0721\n",
      "Epoch: 3/20... Step: 310... Loss: 2.0395... Val Loss: 2.0496\n",
      "Epoch: 3/20... Step: 320... Loss: 2.0075... Val Loss: 2.0301\n",
      "Epoch: 3/20... Step: 330... Loss: 1.9830... Val Loss: 2.0137\n",
      "Epoch: 3/20... Step: 340... Loss: 2.0085... Val Loss: 1.9914\n",
      "Epoch: 3/20... Step: 350... Loss: 1.9846... Val Loss: 1.9734\n",
      "Epoch: 3/20... Step: 360... Loss: 1.9089... Val Loss: 1.9552\n",
      "Epoch: 3/20... Step: 370... Loss: 1.9350... Val Loss: 1.9394\n",
      "Epoch: 3/20... Step: 380... Loss: 1.9200... Val Loss: 1.9243\n",
      "Epoch: 3/20... Step: 390... Loss: 1.8856... Val Loss: 1.9094\n",
      "Epoch: 3/20... Step: 400... Loss: 1.8536... Val Loss: 1.8894\n",
      "Epoch: 3/20... Step: 410... Loss: 1.8648... Val Loss: 1.8736\n",
      "Epoch: 4/20... Step: 420... Loss: 1.8615... Val Loss: 1.8589\n",
      "Epoch: 4/20... Step: 430... Loss: 1.8427... Val Loss: 1.8451\n",
      "Epoch: 4/20... Step: 440... Loss: 1.8249... Val Loss: 1.8320\n",
      "Epoch: 4/20... Step: 450... Loss: 1.7749... Val Loss: 1.8193\n",
      "Epoch: 4/20... Step: 460... Loss: 1.7593... Val Loss: 1.8083\n",
      "Epoch: 4/20... Step: 470... Loss: 1.7967... Val Loss: 1.8063\n",
      "Epoch: 4/20... Step: 480... Loss: 1.7709... Val Loss: 1.7878\n",
      "Epoch: 4/20... Step: 490... Loss: 1.7793... Val Loss: 1.7735\n",
      "Epoch: 4/20... Step: 500... Loss: 1.7670... Val Loss: 1.7666\n",
      "Epoch: 4/20... Step: 510... Loss: 1.7420... Val Loss: 1.7566\n",
      "Epoch: 4/20... Step: 520... Loss: 1.7507... Val Loss: 1.7449\n",
      "Epoch: 4/20... Step: 530... Loss: 1.7122... Val Loss: 1.7354\n",
      "Epoch: 4/20... Step: 540... Loss: 1.6800... Val Loss: 1.7267\n",
      "Epoch: 4/20... Step: 550... Loss: 1.7314... Val Loss: 1.7121\n",
      "Epoch: 5/20... Step: 560... Loss: 1.6869... Val Loss: 1.7055\n",
      "Epoch: 5/20... Step: 570... Loss: 1.6782... Val Loss: 1.6950\n",
      "Epoch: 5/20... Step: 580... Loss: 1.6603... Val Loss: 1.6877\n",
      "Epoch: 5/20... Step: 590... Loss: 1.6616... Val Loss: 1.6816\n",
      "Epoch: 5/20... Step: 600... Loss: 1.6428... Val Loss: 1.6708\n",
      "Epoch: 5/20... Step: 610... Loss: 1.6303... Val Loss: 1.6658\n",
      "Epoch: 5/20... Step: 620... Loss: 1.6417... Val Loss: 1.6590\n",
      "Epoch: 5/20... Step: 630... Loss: 1.6493... Val Loss: 1.6522\n",
      "Epoch: 5/20... Step: 640... Loss: 1.6211... Val Loss: 1.6436\n",
      "Epoch: 5/20... Step: 650... Loss: 1.6056... Val Loss: 1.6386\n",
      "Epoch: 5/20... Step: 660... Loss: 1.5860... Val Loss: 1.6292\n",
      "Epoch: 5/20... Step: 670... Loss: 1.6125... Val Loss: 1.6302\n",
      "Epoch: 5/20... Step: 680... Loss: 1.6126... Val Loss: 1.6220\n",
      "Epoch: 5/20... Step: 690... Loss: 1.5856... Val Loss: 1.6130\n",
      "Epoch: 6/20... Step: 700... Loss: 1.5870... Val Loss: 1.6058\n",
      "Epoch: 6/20... Step: 710... Loss: 1.5718... Val Loss: 1.5996\n",
      "Epoch: 6/20... Step: 720... Loss: 1.5671... Val Loss: 1.5917\n",
      "Epoch: 6/20... Step: 730... Loss: 1.5746... Val Loss: 1.5886\n",
      "Epoch: 6/20... Step: 740... Loss: 1.5437... Val Loss: 1.5863\n",
      "Epoch: 6/20... Step: 750... Loss: 1.5230... Val Loss: 1.5779\n",
      "Epoch: 6/20... Step: 760... Loss: 1.5615... Val Loss: 1.5728\n",
      "Epoch: 6/20... Step: 770... Loss: 1.5366... Val Loss: 1.5705\n",
      "Epoch: 6/20... Step: 780... Loss: 1.5377... Val Loss: 1.5603\n",
      "Epoch: 6/20... Step: 790... Loss: 1.5127... Val Loss: 1.5572\n",
      "Epoch: 6/20... Step: 800... Loss: 1.5364... Val Loss: 1.5536\n",
      "Epoch: 6/20... Step: 810... Loss: 1.5142... Val Loss: 1.5505\n",
      "Epoch: 6/20... Step: 820... Loss: 1.4825... Val Loss: 1.5441\n",
      "Epoch: 6/20... Step: 830... Loss: 1.5307... Val Loss: 1.5415\n",
      "Epoch: 7/20... Step: 840... Loss: 1.4812... Val Loss: 1.5372\n",
      "Epoch: 7/20... Step: 850... Loss: 1.4989... Val Loss: 1.5338\n",
      "Epoch: 7/20... Step: 860... Loss: 1.4816... Val Loss: 1.5268\n",
      "Epoch: 7/20... Step: 870... Loss: 1.4943... Val Loss: 1.5217\n",
      "Epoch: 7/20... Step: 880... Loss: 1.4946... Val Loss: 1.5191\n",
      "Epoch: 7/20... Step: 890... Loss: 1.4942... Val Loss: 1.5155\n",
      "Epoch: 7/20... Step: 900... Loss: 1.4821... Val Loss: 1.5130\n",
      "Epoch: 7/20... Step: 910... Loss: 1.4418... Val Loss: 1.5094\n",
      "Epoch: 7/20... Step: 920... Loss: 1.4704... Val Loss: 1.5038\n",
      "Epoch: 7/20... Step: 930... Loss: 1.4526... Val Loss: 1.5002\n",
      "Epoch: 7/20... Step: 940... Loss: 1.4528... Val Loss: 1.4975\n",
      "Epoch: 7/20... Step: 950... Loss: 1.4657... Val Loss: 1.4899\n",
      "Epoch: 7/20... Step: 960... Loss: 1.4691... Val Loss: 1.4900\n",
      "Epoch: 7/20... Step: 970... Loss: 1.4760... Val Loss: 1.4885\n",
      "Epoch: 8/20... Step: 980... Loss: 1.4408... Val Loss: 1.4854\n",
      "Epoch: 8/20... Step: 990... Loss: 1.4423... Val Loss: 1.4799\n",
      "Epoch: 8/20... Step: 1000... Loss: 1.4348... Val Loss: 1.4764\n",
      "Epoch: 8/20... Step: 1010... Loss: 1.4703... Val Loss: 1.4742\n",
      "Epoch: 8/20... Step: 1020... Loss: 1.4493... Val Loss: 1.4730\n",
      "Epoch: 8/20... Step: 1030... Loss: 1.4296... Val Loss: 1.4677\n",
      "Epoch: 8/20... Step: 1040... Loss: 1.4364... Val Loss: 1.4667\n",
      "Epoch: 8/20... Step: 1050... Loss: 1.4151... Val Loss: 1.4610\n",
      "Epoch: 8/20... Step: 1060... Loss: 1.4191... Val Loss: 1.4616\n",
      "Epoch: 8/20... Step: 1070... Loss: 1.4172... Val Loss: 1.4580\n",
      "Epoch: 8/20... Step: 1080... Loss: 1.4143... Val Loss: 1.4535\n",
      "Epoch: 8/20... Step: 1090... Loss: 1.4066... Val Loss: 1.4486\n",
      "Epoch: 8/20... Step: 1100... Loss: 1.3945... Val Loss: 1.4458\n",
      "Epoch: 8/20... Step: 1110... Loss: 1.4065... Val Loss: 1.4435\n",
      "Epoch: 9/20... Step: 1120... Loss: 1.4089... Val Loss: 1.4422\n",
      "Epoch: 9/20... Step: 1130... Loss: 1.4040... Val Loss: 1.4380\n",
      "Epoch: 9/20... Step: 1140... Loss: 1.4083... Val Loss: 1.4367\n",
      "Epoch: 9/20... Step: 1150... Loss: 1.4294... Val Loss: 1.4333\n",
      "Epoch: 9/20... Step: 1160... Loss: 1.3785... Val Loss: 1.4347\n",
      "Epoch: 9/20... Step: 1170... Loss: 1.3949... Val Loss: 1.4293\n",
      "Epoch: 9/20... Step: 1180... Loss: 1.3840... Val Loss: 1.4258\n",
      "Epoch: 9/20... Step: 1190... Loss: 1.4156... Val Loss: 1.4245\n",
      "Epoch: 9/20... Step: 1200... Loss: 1.3727... Val Loss: 1.4217\n",
      "Epoch: 9/20... Step: 1210... Loss: 1.3771... Val Loss: 1.4225\n",
      "Epoch: 9/20... Step: 1220... Loss: 1.3760... Val Loss: 1.4180\n",
      "Epoch: 9/20... Step: 1230... Loss: 1.3529... Val Loss: 1.4137\n",
      "Epoch: 9/20... Step: 1240... Loss: 1.3567... Val Loss: 1.4133\n",
      "Epoch: 9/20... Step: 1250... Loss: 1.3704... Val Loss: 1.4123\n",
      "Epoch: 10/20... Step: 1260... Loss: 1.3650... Val Loss: 1.4061\n",
      "Epoch: 10/20... Step: 1270... Loss: 1.3625... Val Loss: 1.4069\n",
      "Epoch: 10/20... Step: 1280... Loss: 1.3809... Val Loss: 1.4053\n",
      "Epoch: 10/20... Step: 1290... Loss: 1.3654... Val Loss: 1.4043\n",
      "Epoch: 10/20... Step: 1300... Loss: 1.3485... Val Loss: 1.4016\n",
      "Epoch: 10/20... Step: 1310... Loss: 1.3665... Val Loss: 1.3955\n",
      "Epoch: 10/20... Step: 1320... Loss: 1.3400... Val Loss: 1.3924\n",
      "Epoch: 10/20... Step: 1330... Loss: 1.3366... Val Loss: 1.3924\n",
      "Epoch: 10/20... Step: 1340... Loss: 1.3140... Val Loss: 1.3917\n"
     ]
    },
    {
     "name": "stdout",
     "output_type": "stream",
     "text": [
      "Epoch: 10/20... Step: 1350... Loss: 1.3205... Val Loss: 1.3886\n",
      "Epoch: 10/20... Step: 1360... Loss: 1.3202... Val Loss: 1.3868\n",
      "Epoch: 10/20... Step: 1370... Loss: 1.3051... Val Loss: 1.3832\n",
      "Epoch: 10/20... Step: 1380... Loss: 1.3432... Val Loss: 1.3778\n",
      "Epoch: 10/20... Step: 1390... Loss: 1.3640... Val Loss: 1.3756\n",
      "Epoch: 11/20... Step: 1400... Loss: 1.3589... Val Loss: 1.3776\n",
      "Epoch: 11/20... Step: 1410... Loss: 1.3706... Val Loss: 1.3741\n",
      "Epoch: 11/20... Step: 1420... Loss: 1.3582... Val Loss: 1.3727\n",
      "Epoch: 11/20... Step: 1430... Loss: 1.3267... Val Loss: 1.3725\n",
      "Epoch: 11/20... Step: 1440... Loss: 1.3446... Val Loss: 1.3686\n",
      "Epoch: 11/20... Step: 1450... Loss: 1.2785... Val Loss: 1.3625\n",
      "Epoch: 11/20... Step: 1460... Loss: 1.3056... Val Loss: 1.3610\n",
      "Epoch: 11/20... Step: 1470... Loss: 1.3048... Val Loss: 1.3652\n",
      "Epoch: 11/20... Step: 1480... Loss: 1.3223... Val Loss: 1.3651\n",
      "Epoch: 11/20... Step: 1490... Loss: 1.2997... Val Loss: 1.3636\n",
      "Epoch: 11/20... Step: 1500... Loss: 1.2901... Val Loss: 1.3653\n",
      "Epoch: 11/20... Step: 1510... Loss: 1.2766... Val Loss: 1.3590\n",
      "Epoch: 11/20... Step: 1520... Loss: 1.3034... Val Loss: 1.3514\n",
      "Epoch: 12/20... Step: 1530... Loss: 1.3883... Val Loss: 1.3532\n",
      "Epoch: 12/20... Step: 1540... Loss: 1.3086... Val Loss: 1.3502\n",
      "Epoch: 12/20... Step: 1550... Loss: 1.3120... Val Loss: 1.3493\n",
      "Epoch: 12/20... Step: 1560... Loss: 1.3282... Val Loss: 1.3462\n",
      "Epoch: 12/20... Step: 1570... Loss: 1.2752... Val Loss: 1.3520\n",
      "Epoch: 12/20... Step: 1580... Loss: 1.2539... Val Loss: 1.3478\n",
      "Epoch: 12/20... Step: 1590... Loss: 1.2569... Val Loss: 1.3452\n",
      "Epoch: 12/20... Step: 1600... Loss: 1.2750... Val Loss: 1.3381\n",
      "Epoch: 12/20... Step: 1610... Loss: 1.2765... Val Loss: 1.3403\n",
      "Epoch: 12/20... Step: 1620... Loss: 1.2588... Val Loss: 1.3381\n",
      "Epoch: 12/20... Step: 1630... Loss: 1.2952... Val Loss: 1.3375\n",
      "Epoch: 12/20... Step: 1640... Loss: 1.2689... Val Loss: 1.3447\n",
      "Epoch: 12/20... Step: 1650... Loss: 1.2483... Val Loss: 1.3411\n",
      "Epoch: 12/20... Step: 1660... Loss: 1.2997... Val Loss: 1.3315\n",
      "Epoch: 13/20... Step: 1670... Loss: 1.2616... Val Loss: 1.3357\n",
      "Epoch: 13/20... Step: 1680... Loss: 1.2730... Val Loss: 1.3311\n",
      "Epoch: 13/20... Step: 1690... Loss: 1.2631... Val Loss: 1.3286\n",
      "Epoch: 13/20... Step: 1700... Loss: 1.2577... Val Loss: 1.3305\n",
      "Epoch: 13/20... Step: 1710... Loss: 1.2463... Val Loss: 1.3212\n",
      "Epoch: 13/20... Step: 1720... Loss: 1.2526... Val Loss: 1.3251\n",
      "Epoch: 13/20... Step: 1730... Loss: 1.2867... Val Loss: 1.3270\n",
      "Epoch: 13/20... Step: 1740... Loss: 1.2520... Val Loss: 1.3210\n",
      "Epoch: 13/20... Step: 1750... Loss: 1.2240... Val Loss: 1.3251\n",
      "Epoch: 13/20... Step: 1760... Loss: 1.2457... Val Loss: 1.3166\n",
      "Epoch: 13/20... Step: 1770... Loss: 1.2587... Val Loss: 1.3203\n",
      "Epoch: 13/20... Step: 1780... Loss: 1.2320... Val Loss: 1.3222\n",
      "Epoch: 13/20... Step: 1790... Loss: 1.2247... Val Loss: 1.3237\n",
      "Epoch: 13/20... Step: 1800... Loss: 1.2525... Val Loss: 1.3178\n",
      "Epoch: 14/20... Step: 1810... Loss: 1.2414... Val Loss: 1.3293\n",
      "Epoch: 14/20... Step: 1820... Loss: 1.2448... Val Loss: 1.3095\n",
      "Epoch: 14/20... Step: 1830... Loss: 1.2521... Val Loss: 1.3099\n",
      "Epoch: 14/20... Step: 1840... Loss: 1.2082... Val Loss: 1.3101\n",
      "Epoch: 14/20... Step: 1850... Loss: 1.1967... Val Loss: 1.3094\n",
      "Epoch: 14/20... Step: 1860... Loss: 1.2501... Val Loss: 1.3111\n",
      "Epoch: 14/20... Step: 1870... Loss: 1.2607... Val Loss: 1.3125\n",
      "Epoch: 14/20... Step: 1880... Loss: 1.2544... Val Loss: 1.3080\n",
      "Epoch: 14/20... Step: 1890... Loss: 1.2704... Val Loss: 1.3132\n",
      "Epoch: 14/20... Step: 1900... Loss: 1.2350... Val Loss: 1.3038\n",
      "Epoch: 14/20... Step: 1910... Loss: 1.2359... Val Loss: 1.3038\n",
      "Epoch: 14/20... Step: 1920... Loss: 1.2356... Val Loss: 1.3097\n",
      "Epoch: 14/20... Step: 1930... Loss: 1.2022... Val Loss: 1.3069\n",
      "Epoch: 14/20... Step: 1940... Loss: 1.2583... Val Loss: 1.3074\n",
      "Epoch: 15/20... Step: 1950... Loss: 1.2254... Val Loss: 1.3181\n",
      "Epoch: 15/20... Step: 1960... Loss: 1.2294... Val Loss: 1.3017\n",
      "Epoch: 15/20... Step: 1970... Loss: 1.2201... Val Loss: 1.3037\n",
      "Epoch: 15/20... Step: 1980... Loss: 1.2148... Val Loss: 1.3025\n",
      "Epoch: 15/20... Step: 1990... Loss: 1.2075... Val Loss: 1.2981\n",
      "Epoch: 15/20... Step: 2000... Loss: 1.1908... Val Loss: 1.2963\n",
      "Epoch: 15/20... Step: 2010... Loss: 1.2264... Val Loss: 1.2953\n",
      "Epoch: 15/20... Step: 2020... Loss: 1.2273... Val Loss: 1.3011\n",
      "Epoch: 15/20... Step: 2030... Loss: 1.2009... Val Loss: 1.2984\n",
      "Epoch: 15/20... Step: 2040... Loss: 1.2207... Val Loss: 1.2944\n",
      "Epoch: 15/20... Step: 2050... Loss: 1.2048... Val Loss: 1.2965\n",
      "Epoch: 15/20... Step: 2060... Loss: 1.2128... Val Loss: 1.2979\n",
      "Epoch: 15/20... Step: 2070... Loss: 1.2233... Val Loss: 1.2988\n",
      "Epoch: 15/20... Step: 2080... Loss: 1.2123... Val Loss: 1.2925\n",
      "Epoch: 16/20... Step: 2090... Loss: 1.2263... Val Loss: 1.3118\n",
      "Epoch: 16/20... Step: 2100... Loss: 1.2035... Val Loss: 1.2943\n",
      "Epoch: 16/20... Step: 2110... Loss: 1.2022... Val Loss: 1.2902\n",
      "Epoch: 16/20... Step: 2120... Loss: 1.2098... Val Loss: 1.2943\n",
      "Epoch: 16/20... Step: 2130... Loss: 1.1860... Val Loss: 1.2942\n",
      "Epoch: 16/20... Step: 2140... Loss: 1.2026... Val Loss: 1.2941\n",
      "Epoch: 16/20... Step: 2150... Loss: 1.2252... Val Loss: 1.2890\n",
      "Epoch: 16/20... Step: 2160... Loss: 1.1948... Val Loss: 1.2929\n",
      "Epoch: 16/20... Step: 2170... Loss: 1.1996... Val Loss: 1.2926\n",
      "Epoch: 16/20... Step: 2180... Loss: 1.1778... Val Loss: 1.2908\n",
      "Epoch: 16/20... Step: 2190... Loss: 1.2040... Val Loss: 1.2924\n",
      "Epoch: 16/20... Step: 2200... Loss: 1.1824... Val Loss: 1.2888\n",
      "Epoch: 16/20... Step: 2210... Loss: 1.1559... Val Loss: 1.2849\n",
      "Epoch: 16/20... Step: 2220... Loss: 1.2034... Val Loss: 1.2825\n",
      "Epoch: 17/20... Step: 2230... Loss: 1.1834... Val Loss: 1.2919\n",
      "Epoch: 17/20... Step: 2240... Loss: 1.1900... Val Loss: 1.2881\n",
      "Epoch: 17/20... Step: 2250... Loss: 1.1761... Val Loss: 1.2863\n",
      "Epoch: 17/20... Step: 2260... Loss: 1.1824... Val Loss: 1.2845\n",
      "Epoch: 17/20... Step: 2270... Loss: 1.1901... Val Loss: 1.2843\n",
      "Epoch: 17/20... Step: 2280... Loss: 1.1949... Val Loss: 1.2825\n",
      "Epoch: 17/20... Step: 2290... Loss: 1.1988... Val Loss: 1.2810\n",
      "Epoch: 17/20... Step: 2300... Loss: 1.1513... Val Loss: 1.2811\n",
      "Epoch: 17/20... Step: 2310... Loss: 1.1793... Val Loss: 1.2804\n",
      "Epoch: 17/20... Step: 2320... Loss: 1.1763... Val Loss: 1.2802\n",
      "Epoch: 17/20... Step: 2330... Loss: 1.1657... Val Loss: 1.2798\n",
      "Epoch: 17/20... Step: 2340... Loss: 1.1874... Val Loss: 1.2787\n",
      "Epoch: 17/20... Step: 2350... Loss: 1.1959... Val Loss: 1.2784\n",
      "Epoch: 17/20... Step: 2360... Loss: 1.1937... Val Loss: 1.2816\n",
      "Epoch: 18/20... Step: 2370... Loss: 1.1632... Val Loss: 1.2776\n",
      "Epoch: 18/20... Step: 2380... Loss: 1.1765... Val Loss: 1.2787\n",
      "Epoch: 18/20... Step: 2390... Loss: 1.1754... Val Loss: 1.2754\n",
      "Epoch: 18/20... Step: 2400... Loss: 1.2023... Val Loss: 1.2772\n",
      "Epoch: 18/20... Step: 2410... Loss: 1.1833... Val Loss: 1.2760\n",
      "Epoch: 18/20... Step: 2420... Loss: 1.1725... Val Loss: 1.2741\n",
      "Epoch: 18/20... Step: 2430... Loss: 1.1788... Val Loss: 1.2820\n",
      "Epoch: 18/20... Step: 2440... Loss: 1.1663... Val Loss: 1.2726\n",
      "Epoch: 18/20... Step: 2450... Loss: 1.1554... Val Loss: 1.2732\n",
      "Epoch: 18/20... Step: 2460... Loss: 1.1774... Val Loss: 1.2787\n",
      "Epoch: 18/20... Step: 2470... Loss: 1.1661... Val Loss: 1.2777\n",
      "Epoch: 18/20... Step: 2480... Loss: 1.1585... Val Loss: 1.2722\n",
      "Epoch: 18/20... Step: 2490... Loss: 1.1519... Val Loss: 1.2700\n",
      "Epoch: 18/20... Step: 2500... Loss: 1.1628... Val Loss: 1.2660\n",
      "Epoch: 19/20... Step: 2510... Loss: 1.1584... Val Loss: 1.2728\n",
      "Epoch: 19/20... Step: 2520... Loss: 1.1698... Val Loss: 1.2694\n",
      "Epoch: 19/20... Step: 2530... Loss: 1.1806... Val Loss: 1.2662\n",
      "Epoch: 19/20... Step: 2540... Loss: 1.1877... Val Loss: 1.2708\n",
      "Epoch: 19/20... Step: 2550... Loss: 1.1535... Val Loss: 1.2714\n",
      "Epoch: 19/20... Step: 2560... Loss: 1.1607... Val Loss: 1.2662\n",
      "Epoch: 19/20... Step: 2570... Loss: 1.1601... Val Loss: 1.2692\n",
      "Epoch: 19/20... Step: 2580... Loss: 1.1815... Val Loss: 1.2654\n",
      "Epoch: 19/20... Step: 2590... Loss: 1.1504... Val Loss: 1.2681\n",
      "Epoch: 19/20... Step: 2600... Loss: 1.1486... Val Loss: 1.2703\n",
      "Epoch: 19/20... Step: 2610... Loss: 1.1560... Val Loss: 1.2810\n",
      "Epoch: 19/20... Step: 2620... Loss: 1.1400... Val Loss: 1.2704\n",
      "Epoch: 19/20... Step: 2630... Loss: 1.1424... Val Loss: 1.2679\n",
      "Epoch: 19/20... Step: 2640... Loss: 1.1671... Val Loss: 1.2681\n",
      "Epoch: 20/20... Step: 2650... Loss: 1.1605... Val Loss: 1.2646\n"
     ]
    },
    {
     "name": "stdout",
     "output_type": "stream",
     "text": [
      "Epoch: 20/20... Step: 2660... Loss: 1.1639... Val Loss: 1.2699\n",
      "Epoch: 20/20... Step: 2670... Loss: 1.1673... Val Loss: 1.2588\n",
      "Epoch: 20/20... Step: 2680... Loss: 1.1551... Val Loss: 1.2644\n",
      "Epoch: 20/20... Step: 2690... Loss: 1.1506... Val Loss: 1.2651\n",
      "Epoch: 20/20... Step: 2700... Loss: 1.1524... Val Loss: 1.2600\n",
      "Epoch: 20/20... Step: 2710... Loss: 1.1297... Val Loss: 1.2591\n",
      "Epoch: 20/20... Step: 2720... Loss: 1.1341... Val Loss: 1.2602\n",
      "Epoch: 20/20... Step: 2730... Loss: 1.1319... Val Loss: 1.2661\n",
      "Epoch: 20/20... Step: 2740... Loss: 1.1246... Val Loss: 1.2644\n",
      "Epoch: 20/20... Step: 2750... Loss: 1.1361... Val Loss: 1.2654\n",
      "Epoch: 20/20... Step: 2760... Loss: 1.1148... Val Loss: 1.2709\n",
      "Epoch: 20/20... Step: 2770... Loss: 1.1688... Val Loss: 1.2644\n",
      "Epoch: 20/20... Step: 2780... Loss: 1.1881... Val Loss: 1.2631\n"
     ]
    }
   ],
   "source": [
    "batch_size = 128\n",
    "seq_length = 100\n",
    "n_epochs =  20# start small if you are just testing initial behavior\n",
    "\n",
    "# train the model\n",
    "train(net, encoded, epochs=n_epochs, batch_size=batch_size, seq_length=seq_length, lr=0.001, print_every=10)"
   ]
  },
  {
   "cell_type": "code",
   "execution_count": 39,
   "metadata": {},
   "outputs": [
    {
     "data": {
      "image/png": "[encoded data removed]",
      "text/plain": [
       "<Figure size 432x288 with 1 Axes>"
      ]
     },
     "metadata": {},
     "output_type": "display_data"
    }
   ],
   "source": [
    "plt.plot(train_losses)\n",
    "plt.plot(valid_losses)\n",
    "plt.show()"
   ]
  },
  {
   "cell_type": "markdown",
   "metadata": {},
   "source": [
    "## Getting the best model\n",
    "\n",
    "To set your hyperparameters to get the best performance, you'll want to watch the training and validation losses. If your training loss is much lower than the validation loss, you're overfitting. Increase regularization (more dropout) or use a smaller network. If the training and validation losses are close, you're underfitting so you can increase the size of the network."
   ]
  },
  {
   "cell_type": "markdown",
   "metadata": {},
   "source": [
    "## Hyperparameters\n",
    "\n",
    "Here are the hyperparameters for the network.\n",
    "\n",
    "In defining the model:\n",
    "* `n_hidden` - The number of units in the hidden layers.\n",
    "* `n_layers` - Number of hidden LSTM layers to use.\n",
    "\n",
    "We assume that dropout probability and learning rate will be kept at the default, in this example.\n",
    "\n",
    "And in training:\n",
    "* `batch_size` - Number of sequences running through the network in one pass.\n",
    "* `seq_length` - Number of characters in the sequence the network is trained on. Larger is better typically, the network will learn more long range dependencies. But it takes longer to train. 100 is typically a good number here.\n",
    "* `lr` - Learning rate for training\n",
    "\n",
    "Here's some good advice from Andrej Karpathy on training the network. I'm going to copy it in here for your benefit, but also link to [where it originally came from](https://github.com/karpathy/char-rnn#tips-and-tricks).\n",
    "\n",
    "> ## Tips and Tricks\n",
    "\n",
    ">### Monitoring Validation Loss vs. Training Loss\n",
    ">If you're somewhat new to Machine Learning or Neural Networks it can take a bit of expertise to get good models. The most important quantity to keep track of is the difference between your training loss (printed during training) and the validation loss (printed once in a while when the RNN is run on the validation data (by default every 1000 iterations)). In particular:\n",
    "\n",
    "> - If your training loss is much lower than validation loss then this means the network might be **overfitting**. Solutions to this are to decrease your network size, or to increase dropout. For example you could try dropout of 0.5 and so on.\n",
    "> - If your training/validation loss are about equal then your model is **underfitting**. Increase the size of your model (either number of layers or the raw number of neurons per layer)\n",
    "\n",
    "> ### Approximate number of parameters\n",
    "\n",
    "> The two most important parameters that control the model are `n_hidden` and `n_layers`. I would advise that you always use `n_layers` of either 2/3. The `n_hidden` can be adjusted based on how much data you have. The two important quantities to keep track of here are:\n",
    "\n",
    "> - The number of parameters in your model. This is printed when you start training.\n",
    "> - The size of your dataset. 1MB file is approximately 1 million characters.\n",
    "\n",
    ">These two should be about the same order of magnitude. It's a little tricky to tell. Here are some examples:\n",
    "\n",
    "> - I have a 100MB dataset and I'm using the default parameter settings (which currently print 150K parameters). My data size is significantly larger (100 mil >> 0.15 mil), so I expect to heavily underfit. I am thinking I can comfortably afford to make `n_hidden` larger.\n",
    "> - I have a 10MB dataset and running a 10 million parameter model. I'm slightly nervous and I'm carefully monitoring my validation loss. If it's larger than my training loss then I may want to try to increase dropout a bit and see if that helps the validation loss.\n",
    "\n",
    "> ### Best models strategy\n",
    "\n",
    ">The winning strategy to obtaining very good models (if you have the compute time) is to always err on making the network larger (as large as you're willing to wait for it to compute) and then try different dropout values (between 0,1). Whatever model has the best validation performance (the loss, written in the checkpoint filename, low is good) is the one you should use in the end.\n",
    "\n",
    ">It is very common in deep learning to run many different models with many different hyperparameter settings, and in the end take whatever checkpoint gave the best validation performance.\n",
    "\n",
    ">By the way, the size of your training and validation splits are also parameters. Make sure you have a decent amount of data in your validation set or otherwise the validation performance will be noisy and not very informative."
   ]
  },
  {
   "cell_type": "markdown",
   "metadata": {},
   "source": [
    "## Checkpoint\n",
    "\n",
    "After training, we'll save the model so we can load it again later if we need too. Here I'm saving the parameters needed to create the same architecture, the hidden layer hyperparameters and the text characters."
   ]
  },
  {
   "cell_type": "code",
   "execution_count": 40,
   "metadata": {},
   "outputs": [],
   "source": [
    "# change the name, for saving multiple files\n",
    "model_name = 'rnn_x_epoch_1.net'\n",
    "\n",
    "checkpoint = {'n_hidden': net.n_hidden,\n",
    "              'n_layers': net.n_layers,\n",
    "              'state_dict': net.state_dict(),\n",
    "              'tokens': net.chars}\n",
    "\n",
    "with open(model_name, 'wb') as f:\n",
    "    torch.save(checkpoint, f)"
   ]
  },
  {
   "cell_type": "markdown",
   "metadata": {},
   "source": [
    "---\n",
    "## Making Predictions\n",
    "\n",
    "Now that the model is trained, we'll want to sample from it and make predictions about next characters! To sample, we pass in a character and have the network predict the next character. Then we take that character, pass it back in, and get another predicted character. Just keep doing this and you'll generate a bunch of text!\n",
    "\n",
    "### A note on the `predict`  function\n",
    "\n",
    "The output of our RNN is from a fully-connected layer and it outputs a **distribution of next-character scores**.\n",
    "\n",
    "> To actually get the next character, we apply a softmax function, which gives us a *probability* distribution that we can then sample to predict the next character.\n",
    "\n",
    "### Top K sampling\n",
    "\n",
    "Our predictions come from a categorical probability distribution over all the possible characters. We can make the sample text and make it more reasonable to handle (with less variables) by only considering some $K$ most probable characters. This will prevent the network from giving us completely absurd characters while allowing it to introduce some noise and randomness into the sampled text. Read more about [topk, here](https://pytorch.org/docs/stable/torch.html#torch.topk).\n"
   ]
  },
  {
   "cell_type": "code",
   "execution_count": 41,
   "metadata": {},
   "outputs": [],
   "source": [
    "def predict(net, char, h=None, top_k=None):\n",
    "        ''' Given a character, predict the next character.\n",
    "            Returns the predicted character and the hidden state.\n",
    "        '''\n",
    "        \n",
    "        # tensor inputs\n",
    "        x = np.array([[net.char2int[char]]])\n",
    "        x = one_hot_encode(x, len(net.chars))\n",
    "        inputs = torch.from_numpy(x)\n",
    "        \n",
    "        if(train_on_gpu):\n",
    "            inputs = inputs.cuda()\n",
    "        \n",
    "        # detach hidden state from history\n",
    "        h = tuple([each.data for each in h])\n",
    "        # get the output of the model\n",
    "        out, h = net(inputs, h)\n",
    "\n",
    "        # get the character probabilities\n",
    "        p = F.softmax(out, dim=1).data\n",
    "        if(train_on_gpu):\n",
    "            p = p.cpu() # move to cpu\n",
    "        \n",
    "        # get top characters\n",
    "        if top_k is None:\n",
    "            top_ch = np.arange(len(net.chars))\n",
    "        else:\n",
    "            p, top_ch = p.topk(top_k)\n",
    "            top_ch = top_ch.numpy().squeeze()\n",
    "        \n",
    "        # select the likely next character with some element of randomness\n",
    "        p = p.numpy().squeeze()\n",
    "        char = np.random.choice(top_ch, p=p/p.sum())\n",
    "        \n",
    "        # return the encoded value of the predicted char and the hidden state\n",
    "        return net.int2char[char], h"
   ]
  },
  {
   "cell_type": "markdown",
   "metadata": {},
   "source": [
    "### Priming and generating text \n",
    "\n",
    "Typically you'll want to prime the network so you can build up a hidden state. Otherwise the network will start out generating characters at random. In general the first bunch of characters will be a little rough since it hasn't built up a long history of characters to predict from."
   ]
  },
  {
   "cell_type": "code",
   "execution_count": 42,
   "metadata": {},
   "outputs": [],
   "source": [
    "def sample(net, size, prime='The', top_k=None):\n",
    "        \n",
    "    if(train_on_gpu):\n",
    "        net.cuda()\n",
    "    else:\n",
    "        net.cpu()\n",
    "    \n",
    "    net.eval() # eval mode\n",
    "    \n",
    "    # First off, run through the prime characters\n",
    "    chars = [ch for ch in prime]\n",
    "    h = net.init_hidden(1)\n",
    "    for ch in prime:\n",
    "        char, h = predict(net, ch, h, top_k=top_k)\n",
    "\n",
    "    chars.append(char)\n",
    "    \n",
    "    # Now pass in the previous character and get a new one\n",
    "    for ii in range(size):\n",
    "        char, h = predict(net, chars[-1], h, top_k=top_k)\n",
    "        chars.append(char)\n",
    "\n",
    "    return ''.join(chars)"
   ]
  },
  {
   "cell_type": "code",
   "execution_count": 43,
   "metadata": {},
   "outputs": [
    {
     "name": "stdout",
     "output_type": "stream",
     "text": [
      "Anna said to\n",
      "him. After trying to bad of the memory, as he had been defended\n",
      "them.\n",
      "\n",
      "The princess said that their conversation was as a fine course of\n",
      "characters too happiness with the first munch whether it was not a\n",
      "present of the strength. She flueged it, had become the\n",
      "conversation to have the calm of her elfords of the sounds of home,\n",
      "her lost world, and the string of calences was standing at\n",
      "that, was so asconting to her to that society in the court of\n",
      "the regroation and thricklances was standing, and the more intimaded husband a\n",
      "life at once ready of the stead in what was the signt, a princess\n",
      "confusion, to see in a feoling of soft of little sights, by the\n",
      "princess should be so littly, and so that the maistal of his hands\n",
      "the steps he had asked it through the winder. He could\n",
      "not be a carpliar familiar and silver setting on the race with\n",
      "a certain, was stepping and satisfaction with a clarainer and the\n",
      "most personaged heart, and without tour principles of the mather\n",
      "was something in h\n"
     ]
    }
   ],
   "source": [
    "print(sample(net, 1000, prime='Anna', top_k=5))"
   ]
  },
  {
   "cell_type": "markdown",
   "metadata": {},
   "source": [
    "## Loading a checkpoint"
   ]
  },
  {
   "cell_type": "code",
   "execution_count": 45,
   "metadata": {},
   "outputs": [],
   "source": [
    "# Here we have loaded in a model that trained over 20 epochs `rnn_20_epoch.net`\n",
    "with open('rnn_x_epoch_1.net', 'rb') as f:\n",
    "    checkpoint = torch.load(f)\n",
    "    \n",
    "loaded = CharRNN(checkpoint['tokens'], n_hidden=checkpoint['n_hidden'], n_layers=checkpoint['n_layers'])\n",
    "loaded.load_state_dict(checkpoint['state_dict'])"
   ]
  },
  {
   "cell_type": "code",
   "execution_count": 46,
   "metadata": {},
   "outputs": [
    {
     "name": "stdout",
     "output_type": "stream",
     "text": [
      "And Levin said\n",
      "interrupted. The peasants who was still at again. Stepan Arkadyevitch\n",
      "saw that she had carrying the rooms, and started at his\n",
      "waiting rooms, and when he was sounding and white frame of all of the\n",
      "committee.\n",
      "\n",
      "\"Would I do this sitting of your position. You were almost for anything. Then I\n",
      "could not help too meant to me, it must come to tell me, but I have\n",
      "saw that I had not attacked in such a shoulders. Went to his\n",
      "feeling, our sense of all of them.\"\n",
      "\n",
      "\"Oh, I shall not get away in,\" said Anna, stiling at the first. He had stiffed\n",
      "them.\n",
      "\n",
      "\"Yes,\" a stream was not a great deal about the condition of the\n",
      "conversation of the station, with a fashion, whomever she\n",
      "lived.\n",
      "\n",
      "\"When you say to the most papa fancy?\" she said. \"Why do you think? I\n",
      "drunk about your candle, and send too much, would be in him and\n",
      "some death. That was it all about? To clear it is saying the samoval\n",
      "for a singy secord of a man, she has say something was not time to take this\n",
      "without toneres of things in the prince. What are you think to stay\n",
      "in a side of man sent. This sense in hinger was a good, as\n",
      "I don't. But I'm a right, but I have the brother's and more\n",
      "silent, which shall been married, and so as to be seen in him.\"\n",
      "\n",
      "Alexey Alexandrovitch said to her, as she shouted that he was saying, was\n",
      "not letting the common of the strown. She was convinced that the peasants\n",
      "was a lovely and towards the peasants and the steps of those shadow to\n",
      "himself. She was so as surely as it were anger to spend one of all his\n",
      "hands in a countess.\n",
      "\n",
      "Having seen his brother in his head, so some talkers, the most\n",
      "conversation to stop him; and she was standing at the carriage.\n",
      "\n",
      "\"Oh, what don't be done?\" he said, and said to her; but it was a\n",
      "still more as it she could not like that he drew now when the\n",
      "second cheek sat down in the same thing of sick-mouth, and should\n",
      "not have taken of an answer to the bainficks, but with spiritual\n",
      "children, set the station of princisely, and told a smiling cheeks, and\n",
      "attentively, he felt that sh\n"
     ]
    }
   ],
   "source": [
    "# Sample using a loaded model\n",
    "print(sample(loaded, 2000, top_k=5, prime=\"And Levin said\"))"
   ]
  },
  {
   "cell_type": "code",
   "execution_count": null,
   "metadata": {
    "collapsed": true
   },
   "outputs": [],
   "source": []
  }
 ],
 "metadata": {
  "kernelspec": {
   "display_name": "Python [conda env:pytorch_p36]",
   "language": "python",
   "name": "conda-env-pytorch_p36-py"
  },
  "language_info": {
   "codemirror_mode": {
    "name": "ipython",
    "version": 3
   },
   "file_extension": ".py",
   "mimetype": "text/x-python",
   "name": "python",
   "nbconvert_exporter": "python",
   "pygments_lexer": "ipython3",
   "version": "3.6.5"
  }
 },
 "nbformat": 4,
 "nbformat_minor": 2
}
